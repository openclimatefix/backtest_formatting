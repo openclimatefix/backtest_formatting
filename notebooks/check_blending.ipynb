{
 "cells": [
  {
   "cell_type": "markdown",
   "metadata": {},
   "source": [
    "# Analysis for manual verification of blending"
   ]
  },
  {
   "cell_type": "code",
   "execution_count": null,
   "metadata": {},
   "outputs": [],
   "source": [
    "import pandas as pd\n",
    "\n",
    "pd.set_option(\"display.max_rows\", 100)\n",
    "pd.set_option(\"display.max_columns\", 400)"
   ]
  },
  {
   "cell_type": "code",
   "execution_count": null,
   "metadata": {},
   "outputs": [],
   "source": [
    "df_form = pd.read_csv(\"../data/pvnet_2023-2024_backtest_230924/pvnet_2023-2024_240924_a4.csv.gz\")\n",
    "df_raw_ID = pd.read_csv(\"../data/pvnet_2023-2024_backtest_230924/pvnet_2023-2024_ID_240924_a4.csv\")\n",
    "df_raw_DA = pd.read_csv(\"../data/pvnet_2023-2024_backtest_230924/pvnet_2023-2024_DA_240924_a4.csv\")\n",
    "\n",
    "time = \"2023-01-07 06:00:00+00:00\""
   ]
  },
  {
   "cell_type": "code",
   "execution_count": null,
   "metadata": {},
   "outputs": [],
   "source": [
    "df_raw_ID"
   ]
  },
  {
   "cell_type": "code",
   "execution_count": null,
   "metadata": {},
   "outputs": [],
   "source": [
    "df_raw_ID"
   ]
  },
  {
   "cell_type": "code",
   "execution_count": null,
   "metadata": {},
   "outputs": [],
   "source": [
    "df_form = df_form[df_form[\"forecasting_creation_datetime_utc\"] == time]\n",
    "df_form[\"horizon\"] = pd.to_datetime(df_form[\"end_datetime_utc\"]) - pd.to_datetime(\n",
    "    df_form[\"forecasting_creation_datetime_utc\"]\n",
    ")\n",
    "df_form.tail(20)"
   ]
  },
  {
   "cell_type": "code",
   "execution_count": null,
   "metadata": {},
   "outputs": [],
   "source": [
    "df_raw_ID = df_raw_ID[df_raw_ID[\"Init Time\"] == \"2023-01-07 06:00:00\"]\n",
    "df_raw_ID"
   ]
  },
  {
   "cell_type": "code",
   "execution_count": null,
   "metadata": {},
   "outputs": [],
   "source": [
    "df_raw_DA = df_raw_DA[df_raw_DA[\"Init Time\"] == \"2023-01-07 06:00:00\"]\n",
    "df_raw_DA"
   ]
  }
 ],
 "metadata": {
  "kernelspec": {
   "display_name": "base",
   "language": "python",
   "name": "python3"
  },
  "language_info": {
   "codemirror_mode": {
    "name": "ipython",
    "version": 3
   },
   "file_extension": ".py",
   "mimetype": "text/x-python",
   "name": "python",
   "nbconvert_exporter": "python",
   "pygments_lexer": "ipython3",
   "version": "3.10.13"
  }
 },
 "nbformat": 4,
 "nbformat_minor": 2
}
