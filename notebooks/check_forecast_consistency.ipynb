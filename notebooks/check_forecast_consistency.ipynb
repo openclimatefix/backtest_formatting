{
 "cells": [
  {
   "cell_type": "markdown",
   "metadata": {},
   "source": [
    "## Analysis of forecasts to check for consistency, capacity data, forecast horizons and NaNs "
   ]
  },
  {
   "cell_type": "code",
   "execution_count": null,
   "metadata": {},
   "outputs": [],
   "source": [
    "import pandas as pd\n",
    "import plotly.express as px"
   ]
  },
  {
   "cell_type": "code",
   "execution_count": null,
   "metadata": {},
   "outputs": [],
   "source": [
    "df = pd.read_csv(\n",
    "    \"../data/pvnet_2019-2024_backtest_240924/forecast_v=9c__model_name_1=pvnet_app_v__model_version_1=2.3.19__start_date=2019-01-01__end_date=2024-01-01.csv.gz\"\n",
    ")\n",
    "df"
   ]
  },
  {
   "cell_type": "code",
   "execution_count": null,
   "metadata": {},
   "outputs": [],
   "source": [
    "# Analysis of forecasts per year\n",
    "df[\"year\"] = pd.to_datetime(df[\"forecasting_creation_datetime_utc\"]).dt.year\n",
    "forecasts_per_year = df[\"year\"].value_counts().sort_index().reset_index()\n",
    "forecasts_per_year.columns = [\"Year\", \"Count\"]\n",
    "\n",
    "\n",
    "# Plot forecasts per year\n",
    "fig = px.bar(\n",
    "    forecasts_per_year,\n",
    "    x=\"Year\",\n",
    "    y=\"Count\",\n",
    "    title=\"Number of Forecasts per Year\",\n",
    "    labels={\"Count\": \"Number of Forecasts\"},\n",
    ")\n",
    "\n",
    "fig.update_layout(xaxis_title=\"Year\", yaxis_title=\"Number of Forecasts\", xaxis_tickangle=0)\n",
    "\n",
    "fig.show()\n",
    "\n",
    "# Check data integrity\n",
    "print(\"Data integrity checks:\")\n",
    "print(f\"Total number of rows: {len(df)}\")\n",
    "print(f\"Number of unique forecasting_creation_datetime_utc: {df['forecasting_creation_datetime_utc'].nunique()}\")\n",
    "print(f\"Number of unique start_datetime_utc: {df['start_datetime_utc'].nunique()}\")\n",
    "print(f\"Any missing values: {df.isnull().sum().sum() > 0}\")\n",
    "print(\"\\n\")\n",
    "\n",
    "# Calculate forecast horizon\n",
    "df[\"forecasting_creation_datetime_utc\"] = pd.to_datetime(df[\"forecasting_creation_datetime_utc\"])\n",
    "df[\"end_datetime_utc\"] = pd.to_datetime(df[\"end_datetime_utc\"])\n",
    "df[\"forecast_horizon\"] = (df[\"end_datetime_utc\"] - df[\"forecasting_creation_datetime_utc\"]).dt.total_seconds() / 3600\n",
    "\n",
    "# Analyze forecast horizons\n",
    "horizon_counts = df[\"forecast_horizon\"].value_counts().sort_index().reset_index()\n",
    "horizon_counts.columns = [\"Horizon\", \"Frequency\"]\n",
    "\n",
    "fig = px.bar(\n",
    "    horizon_counts,\n",
    "    x=\"Horizon\",\n",
    "    y=\"Frequency\",\n",
    "    title=\"Frequency of Forecast Horizons\",\n",
    "    labels={\"Horizon\": \"Forecast Horizon (hours)\", \"Frequency\": \"Frequency\"},\n",
    ")\n",
    "\n",
    "fig.update_layout(xaxis_tickangle=45)\n",
    "fig.show()\n",
    "\n",
    "# Check for any unexpected horizon values\n",
    "unexpected_horizons = df[~df[\"forecast_horizon\"].between(0, 48)]\n",
    "if len(unexpected_horizons) > 0:\n",
    "    print(\"Unexpected horizon values found:\")\n",
    "    print(unexpected_horizons)\n",
    "else:\n",
    "    print(\"No unexpected horizon values found.\")"
   ]
  },
  {
   "cell_type": "code",
   "execution_count": null,
   "metadata": {},
   "outputs": [],
   "source": [
    "# Plot capacity vs forecast_creation_datetime_utc\n",
    "# Group by date and calculate mean capacity\n",
    "df_daily = df.groupby(df[\"forecasting_creation_datetime_utc\"].dt.date)[\"capacity_mwp\"].mean().reset_index()\n",
    "\n",
    "fig = px.line(\n",
    "    df_daily,\n",
    "    x=\"forecasting_creation_datetime_utc\",\n",
    "    y=\"capacity_mwp\",\n",
    "    title=\"Daily Average Installed Capacity vs Forecast Creation Time\",\n",
    "    labels={\n",
    "        \"forecasting_creation_datetime_utc\": \"Forecast Creation Date\",\n",
    "        \"capacity_mwp\": \"Average Installed Capacity (MWp)\",\n",
    "    },\n",
    ")\n",
    "\n",
    "fig.update_layout(xaxis_tickangle=45)\n",
    "fig.show()"
   ]
  },
  {
   "cell_type": "code",
   "execution_count": null,
   "metadata": {},
   "outputs": [],
   "source": [
    "def count_nans(df):\n",
    "    # Check for NaN values in each column of the dataframe\n",
    "    nan_counts = df.isna().sum()\n",
    "    print(\"Number of NaNs in each column:\")\n",
    "    print(nan_counts)\n",
    "    return"
   ]
  },
  {
   "cell_type": "code",
   "execution_count": null,
   "metadata": {},
   "outputs": [],
   "source": [
    "nan_counts = count_nans(df)"
   ]
  },
  {
   "cell_type": "code",
   "execution_count": null,
   "metadata": {},
   "outputs": [],
   "source": [
    "# Find min and max dates\n",
    "min_date = df[\"forecasting_creation_datetime_utc\"].dt.date.min()\n",
    "max_date = df[\"forecasting_creation_datetime_utc\"].dt.date.max()\n",
    "\n",
    "# Create a date range from min to max date\n",
    "date_range = pd.date_range(start=min_date, end=max_date, freq=\"D\")\n",
    "\n",
    "# Group by date and count forecasts\n",
    "forecast_counts = df.groupby(df[\"forecasting_creation_datetime_utc\"].dt.date).size().reset_index(name=\"count\")\n",
    "\n",
    "# Reindex with the full date range, filling missing values with 0\n",
    "forecast_counts = (\n",
    "    forecast_counts.set_index(\"forecasting_creation_datetime_utc\").reindex(date_range, fill_value=0).reset_index()\n",
    ")\n",
    "\n",
    "# Create the line chart\n",
    "fig = px.line(\n",
    "    forecast_counts,\n",
    "    x=\"index\",\n",
    "    y=\"count\",\n",
    "    title=\"Daily Forecast Count\",\n",
    "    labels={\"index\": \"Date\", \"count\": \"Number of Forecasts\"},\n",
    ")\n",
    "\n",
    "fig.update_layout(xaxis_tickangle=45)\n",
    "\n",
    "fig.show()"
   ]
  }
 ],
 "metadata": {
  "kernelspec": {
   "display_name": "data",
   "language": "python",
   "name": "python3"
  },
  "language_info": {
   "codemirror_mode": {
    "name": "ipython",
    "version": 3
   },
   "file_extension": ".py",
   "mimetype": "text/x-python",
   "name": "python",
   "nbconvert_exporter": "python",
   "pygments_lexer": "ipython3",
   "version": "3.10.13"
  }
 },
 "nbformat": 4,
 "nbformat_minor": 2
}
