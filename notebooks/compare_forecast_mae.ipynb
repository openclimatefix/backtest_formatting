{
 "cells": [
  {
   "cell_type": "code",
   "execution_count": null,
   "metadata": {},
   "outputs": [],
   "source": [
    "from datetime import datetime, timedelta\n",
    "\n",
    "import numpy as np\n",
    "import pandas as pd\n",
    "import plotly.graph_objects as go"
   ]
  },
  {
   "cell_type": "code",
   "execution_count": null,
   "metadata": {},
   "outputs": [],
   "source": [
    "pv_models = {\n",
    "    \"fc_v9\": \"forecast_v=9__model_name_1=pvnet_app_v__model_version_1=2.3.19__start_date=2019-01-01__end_date=2024-01-01\",\n",
    "    \"v5_all\": \"pvnet_2019-2023_310724_p3_v5_all\",\n",
    "    \"fc_v9c\": \"forecast_v=9c__model_name_1=pvnet_app_v__model_version_1=2.3.19__start_date=2019-01-01__end_date=2024-01-01\",\n",
    "    \"fc_v8\": \"forecast_v=8__model_name_1=national_xg__model_version_1=1.0.23__model_name_2=pv_net__model_version_2=3.0.1__start_date=2016-12-01__end_date=2022-08-08\",\n",
    "}\n",
    "\n",
    "pvlive_df = pd.read_csv(\"../data/compare_forecasts/pvlive_2016_2023.csv\")\n",
    "\n",
    "# Load forecast dataframes\n",
    "forecast_dfs = {}\n",
    "for short_name, file_name in pv_models.items():\n",
    "    print(f\"Loading {short_name}\")\n",
    "    try:\n",
    "        df = pd.read_csv(f\"../data/compare_forecasts/{file_name}.csv.gz\")\n",
    "    except FileNotFoundError:\n",
    "        df = pd.read_csv(f\"../data/compare_forecasts/{file_name}.csv\")\n",
    "    forecast_dfs[short_name] = df"
   ]
  },
  {
   "cell_type": "code",
   "execution_count": null,
   "metadata": {},
   "outputs": [],
   "source": [
    "forecast_dfs"
   ]
  },
  {
   "cell_type": "code",
   "execution_count": null,
   "metadata": {},
   "outputs": [],
   "source": [
    "# Function to calculate Mean Absolute Error (MAE) for each forecast horizon\n",
    "def calculate_mae_for_forecast_horizons(\n",
    "    forecast_dfs, df_actual, min_end_datetime_utc=None, compare_common_init_times=False\n",
    "):\n",
    "    mae_results = {}\n",
    "\n",
    "    if compare_common_init_times:\n",
    "        # Find common forecasting_creation_datetime_utc across all models\n",
    "        common_init_times = set.intersection(\n",
    "            *[set(df[\"forecasting_creation_datetime_utc\"]) for df in forecast_dfs.values()]\n",
    "        )\n",
    "        print(f\"There are {len(common_init_times)} common init times\")\n",
    "\n",
    "    for model_name, df_forecast in forecast_dfs.items():\n",
    "        # Merge the forecast and actual dataframes on the end_datetime_utc column\n",
    "        merged_df = pd.merge(df_forecast, df_actual, on=\"end_datetime_utc\", suffixes=(\"_forecast\", \"_actual\"))\n",
    "\n",
    "        # Filter the merged dataframe by the minimum end_datetime_utc if provided\n",
    "        if min_end_datetime_utc is not None:\n",
    "            merged_df[\"end_datetime_utc\"] = pd.to_datetime(merged_df[\"end_datetime_utc\"])\n",
    "            merged_df = merged_df[merged_df[\"end_datetime_utc\"] >= min_end_datetime_utc]\n",
    "\n",
    "        # Filter for common init times if compare_common_init_times is True\n",
    "        if compare_common_init_times:\n",
    "            merged_df = merged_df[merged_df[\"forecasting_creation_datetime_utc\"].isin(common_init_times)]\n",
    "\n",
    "        # Calculate the difference in hours between the forecasting_creation_datetime_utc and end_datetime_utc\n",
    "        merged_df[\"forecast_horizon_hours\"] = (\n",
    "            pd.to_datetime(merged_df[\"end_datetime_utc\"])\n",
    "            - pd.to_datetime(merged_df[\"forecasting_creation_datetime_utc\"])\n",
    "        ).dt.total_seconds() / 3600\n",
    "\n",
    "        # Calculate the absolute error between the forecasted and actual generation\n",
    "        merged_df[\"absolute_error\"] = np.abs(merged_df[\"generation_mw_forecast\"] - merged_df[\"generation_mw_actual\"])\n",
    "\n",
    "        # Calculate the error between the forecasted and actual generation\n",
    "        merged_df[\"error\"] = merged_df[\"generation_mw_forecast\"] - merged_df[\"generation_mw_actual\"]\n",
    "\n",
    "        # Group by the forecast horizon and calculate the mean absolute error for each group\n",
    "        mae_by_horizon = merged_df.groupby(\"forecast_horizon_hours\")[\"absolute_error\"].mean().reset_index(name=\"MAE\")\n",
    "        mbe_by_horizon = merged_df.groupby(\"forecast_horizon_hours\")[\"error\"].mean().reset_index(name=\"MBE\")\n",
    "\n",
    "        # Merge MAE and MBE results\n",
    "        results = pd.merge(mae_by_horizon, mbe_by_horizon, on=\"forecast_horizon_hours\")\n",
    "\n",
    "        mae_results[model_name] = results\n",
    "\n",
    "    return mae_results"
   ]
  },
  {
   "cell_type": "code",
   "execution_count": null,
   "metadata": {},
   "outputs": [],
   "source": [
    "mae_dfs = calculate_mae_for_forecast_horizons(forecast_dfs, pvlive_df, compare_common_init_times=True)\n",
    "\n",
    "# Use the min end datetime to calculate the error for just pvnet summation model times\n",
    "# min_date = pd.to_datetime(\"2022-01-01 00:00:00\").tz_localize(\"UTC\")\n",
    "# mae_dfs_min = calculate_mae_for_forecast_horizons(forecast_dfs, pvlive_df, min_end_datetime_utc=min_date, compare_common_init_times=False)"
   ]
  },
  {
   "cell_type": "code",
   "execution_count": null,
   "metadata": {},
   "outputs": [],
   "source": [
    "mae_dfs[\"fc_v9\"]"
   ]
  },
  {
   "cell_type": "code",
   "execution_count": null,
   "metadata": {},
   "outputs": [],
   "source": [
    "def calculate_average_mae(mae_dfs):\n",
    "    # Iterate through each model and calculate the average MAE for the specified time frames\n",
    "    for model_name, df in mae_dfs.items():\n",
    "        # Calculate average MAE for 0-8 hours\n",
    "        avg_mae_0_8 = df[df[\"forecast_horizon_hours\"] <= 8][\"MAE\"].mean()\n",
    "\n",
    "        # Calculate average MAE for 0-36 hours\n",
    "        avg_mae_0_36 = df[df[\"forecast_horizon_hours\"] <= 36][\"MAE\"].mean()\n",
    "\n",
    "        # Calculate average MAE for 8-36 hours\n",
    "        avg_mae_8_36 = df[(df[\"forecast_horizon_hours\"] > 8) & (df[\"forecast_horizon_hours\"] <= 36)][\"MAE\"].mean()\n",
    "\n",
    "        # Calculate average MBE for 0-8 hours\n",
    "        avg_mbe_0_8 = df[df[\"forecast_horizon_hours\"] <= 8][\"MBE\"].mean()\n",
    "\n",
    "        # Calculate average MBE for 0-36 hours\n",
    "        avg_mbe_0_36 = df[df[\"forecast_horizon_hours\"] <= 36][\"MBE\"].mean()\n",
    "\n",
    "        # Calculate average MBE for 8-36 hours\n",
    "        avg_mbe_8_36 = df[(df[\"forecast_horizon_hours\"] > 8) & (df[\"forecast_horizon_hours\"] <= 36)][\"MBE\"].mean()\n",
    "\n",
    "        # Print the results\n",
    "        print(f\"Model: {model_name}\")\n",
    "        print(f\"Average MAE for 0-8 hours: {avg_mae_0_8:.2f}\")\n",
    "        print(f\"Average MAE for 0-36 hours: {avg_mae_0_36:.2f}\")\n",
    "        print(f\"Average MAE for 8-36 hours: {avg_mae_8_36:.2f}\")\n",
    "        print(f\"Average MBE for 0-8 hours: {avg_mbe_0_8:.2f}\")\n",
    "        print(f\"Average MBE for 0-36 hours: {avg_mbe_0_36:.2f}\")\n",
    "        print(f\"Average MBE for 8-36 hours: {avg_mbe_8_36:.2f}\")\n",
    "        print()"
   ]
  },
  {
   "cell_type": "code",
   "execution_count": null,
   "metadata": {},
   "outputs": [],
   "source": [
    "calculate_average_mae(mae_dfs)"
   ]
  },
  {
   "cell_type": "code",
   "execution_count": null,
   "metadata": {},
   "outputs": [],
   "source": [
    "def plot_multiple_mae_forecast_horizons(mae_dfs, metric=\"MAE\"):\n",
    "    df_list = list(mae_dfs.values())\n",
    "    df_names = list(mae_dfs.keys())\n",
    "\n",
    "    # Create a plotly figure\n",
    "    fig = go.Figure()\n",
    "\n",
    "    # Define colors for the plots\n",
    "    colors = [\"blue\", \"green\", \"red\", \"purple\", \"orange\", \"yellow\", \"brown\", \"black\"]\n",
    "\n",
    "    for df, name, color in zip(df_list, df_names, colors):\n",
    "        # Add line plot for MAE or MBE across different forecast horizons for each dataframe\n",
    "        fig.add_trace(\n",
    "            go.Scatter(\n",
    "                x=df[\"forecast_horizon_hours\"], y=df[metric], mode=\"lines+markers\", name=name, line=dict(color=color)\n",
    "            )\n",
    "        )\n",
    "\n",
    "    # Update layout with titles and axis labels\n",
    "    fig.update_layout(\n",
    "        title=f\"{metric} across Different Forecast Horizons for Multiple Models\",\n",
    "        xaxis_title=\"Forecast Horizon (hours)\",\n",
    "        yaxis_title=f\"{'Mean Absolute Error (MAE)' if metric == 'MAE' else 'Mean Bias Error (MBE)'}\",\n",
    "        template=\"plotly_white\",\n",
    "    )\n",
    "\n",
    "    # Show plot\n",
    "    fig.show()"
   ]
  },
  {
   "cell_type": "code",
   "execution_count": null,
   "metadata": {},
   "outputs": [],
   "source": [
    "plot_multiple_mae_forecast_horizons(mae_dfs)"
   ]
  },
  {
   "cell_type": "code",
   "execution_count": null,
   "metadata": {},
   "outputs": [],
   "source": [
    "plot_multiple_mae_forecast_horizons(mae_dfs, metric=\"MBE\")"
   ]
  },
  {
   "cell_type": "code",
   "execution_count": null,
   "metadata": {},
   "outputs": [],
   "source": [
    "# Function to plot multiple forecasts on the same graph including pvlive_df for 2 days ahead\n",
    "def plot_multiple_forecasts_with_pvlive(forecasting_datetime, forecast_dfs, pvlive_df):\n",
    "    fig = go.Figure()\n",
    "\n",
    "    # Convert forecasting_datetime to datetime object\n",
    "    forecasting_datetime_obj = datetime.strptime(forecasting_datetime, \"%Y-%m-%d %H:%M:%S%z\")\n",
    "    # Calculate 2 days ahead datetime\n",
    "    two_days_ahead_datetime = forecasting_datetime_obj + timedelta(days=1)\n",
    "\n",
    "    # Filter pvlive_df for the range\n",
    "    pvlive_filtered = pvlive_df[\n",
    "        (pvlive_df[\"start_datetime_utc\"] >= forecasting_datetime)\n",
    "        & (pvlive_df[\"end_datetime_utc\"] <= two_days_ahead_datetime.isoformat())\n",
    "    ]\n",
    "\n",
    "    # Add pvlive data to the plot\n",
    "    fig.add_trace(\n",
    "        go.Scatter(\n",
    "            x=pvlive_filtered[\"end_datetime_utc\"], y=pvlive_filtered[\"generation_mw\"], mode=\"lines\", name=\"pvlive_data\"\n",
    "        )\n",
    "    )\n",
    "\n",
    "    for name, df in forecast_dfs.items():\n",
    "        pre_gen_data = df[df[\"forecasting_creation_datetime_utc\"] == forecasting_datetime]\n",
    "        generation_data = pre_gen_data[[\"end_datetime_utc\", \"generation_mw\"]]\n",
    "\n",
    "        fig.add_trace(\n",
    "            go.Scatter(\n",
    "                x=generation_data[\"end_datetime_utc\"], y=generation_data[\"generation_mw\"], mode=\"lines\", name=name\n",
    "            )\n",
    "        )\n",
    "\n",
    "    fig.update_layout(\n",
    "        title=f\"Generation Data for {forecasting_datetime} including pvlive data for 2 days ahead\",\n",
    "        xaxis_title=\"End Datetime UTC\",\n",
    "        yaxis_title=\"Generation MW\",\n",
    "    )\n",
    "    fig.show()"
   ]
  },
  {
   "cell_type": "code",
   "execution_count": null,
   "metadata": {},
   "outputs": [],
   "source": [
    "# Chose a date to compare\n",
    "# Find common forecasting_creation_datetime_utc across all models\n",
    "common_init_times = set.intersection(*[set(df[\"forecasting_creation_datetime_utc\"]) for df in forecast_dfs.values()])\n",
    "print(f\"There are {len(common_init_times)} common init times\")\n",
    "\n",
    "# or pick a date from a model\n",
    "# Select a specific model from forecast_dfs\n",
    "model_name = \"fc_v9\"  # Replace with the actual model name you want to use\n",
    "\n",
    "if model_name in forecast_dfs:\n",
    "    # Get unique dates from the selected model\n",
    "    unique_datetimes = forecast_dfs[model_name][\"forecasting_creation_datetime_utc\"].unique()\n",
    "    print(f\"There are {len(unique_datetimes)} unique dates for the {model_name} model\")\n",
    "\n",
    "\n",
    "forecasting_datetime = list(common_init_times)[120]  # Convert set to list and get the first element\n",
    "# forecasting_datetime = \"2023-09-02 04:30:00+00:00\"\n",
    "# forecasting_datetime = unique_datetimes[10]"
   ]
  },
  {
   "cell_type": "code",
   "execution_count": null,
   "metadata": {},
   "outputs": [],
   "source": [
    "plot_multiple_forecasts_with_pvlive(forecasting_datetime, forecast_dfs, pvlive_df)"
   ]
  }
 ],
 "metadata": {
  "kernelspec": {
   "display_name": "base",
   "language": "python",
   "name": "python3"
  },
  "language_info": {
   "codemirror_mode": {
    "name": "ipython",
    "version": 3
   },
   "file_extension": ".py",
   "mimetype": "text/x-python",
   "name": "python",
   "nbconvert_exporter": "python",
   "pygments_lexer": "ipython3",
   "version": "3.10.13"
  }
 },
 "nbformat": 4,
 "nbformat_minor": 2
}
